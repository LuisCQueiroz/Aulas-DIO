{
 "cells": [
  {
   "cell_type": "markdown",
   "id": "8542a30a-4dba-4f98-8642-903d85059c51",
   "metadata": {},
   "source": [
    "# Validação de CPF com Python"
   ]
  },
  {
   "cell_type": "code",
   "execution_count": 1,
   "id": "396745b7-03e4-4fb0-9e3d-33967baa8534",
   "metadata": {
    "tags": []
   },
   "outputs": [],
   "source": [
    "import sys\n",
    "strCPF = \"11122233396\"\n",
    "numDV1 = 0\n",
    "numDV2 = 0\n",
    "numCheckDV1 = 0\n",
    "numCheckDV2 = 0\n",
    "i = 1"
   ]
  },
  {
   "cell_type": "code",
   "execution_count": 2,
   "id": "3527465f-882b-4d50-be98-0d373d5cf904",
   "metadata": {},
   "outputs": [],
   "source": [
    "# Verificar o número de caracteres do CPF\n",
    "if len(strCPF) < 11:\n",
    "    difCPF = 11 - len(strCPF)\n",
    "    strCPF = '0' * difCPF + strCPF"
   ]
  },
  {
   "cell_type": "code",
   "execution_count": 3,
   "id": "5fa1bec7-e2f7-4abe-adfe-4325df46dd6e",
   "metadata": {
    "tags": []
   },
   "outputs": [],
   "source": [
    "# Capturar o número do dígito verificador\n",
    "numCheckDV1 = int(strCPF[9:10])\n",
    "numCheckDV2 = int(strCPF[10:11])\n",
    "\n",
    "# print(numCheckDV1)\n",
    "# print(numCheckDV2)"
   ]
  },
  {
   "cell_type": "code",
   "execution_count": 4,
   "id": "253d1c96-61e4-461d-8cd7-bad3fb77f37b",
   "metadata": {},
   "outputs": [],
   "source": [
    "# Cáculo do primeiro dígito verificador\n",
    "for i in range(1, 10):\n",
    "    numDV1 = numDV1 + int(strCPF[i-1:i])*i"
   ]
  },
  {
   "cell_type": "code",
   "execution_count": 5,
   "id": "f35be550-496f-4ba4-9194-f9d671030e05",
   "metadata": {},
   "outputs": [],
   "source": [
    "# resto da divisão por 11\n",
    "numDV1 = numDV1 % 11"
   ]
  },
  {
   "cell_type": "code",
   "execution_count": 6,
   "id": "8a5e986e-ea09-4958-9d3b-5a525b459dab",
   "metadata": {},
   "outputs": [],
   "source": [
    "# se o número for maior que 10 considerar 0\n",
    "if (numDV1 == 10):\n",
    "    numDV1 = 0"
   ]
  },
  {
   "cell_type": "code",
   "execution_count": 7,
   "id": "21df4042-4939-4816-9b0a-9c8c577eb8fb",
   "metadata": {
    "tags": []
   },
   "outputs": [],
   "source": [
    "# Verificar o primeiro digito\n",
    "if numDV1 != numCheckDV1:\n",
    "##    sys.exit = (\"Digito 1 inválido\")\n",
    "    print(\"Digito 1 Inválido\")\n",
    "## else:\n",
    "##    sys.exit = (\"Digito 1 válido\")\n",
    "##    print(sys.exit)"
   ]
  },
  {
   "cell_type": "code",
   "execution_count": 8,
   "id": "71ad7e4e-33f7-4dca-9478-fa8786ed01ea",
   "metadata": {},
   "outputs": [],
   "source": [
    "# Digito Verificador 2"
   ]
  },
  {
   "cell_type": "code",
   "execution_count": 9,
   "id": "45b73506-5ddb-4f72-91bd-e0722fc8f21a",
   "metadata": {},
   "outputs": [],
   "source": [
    "for i in range(2, 11):\n",
    "    numDV2 = numDV2 + int(strCPF[i-1:i])*(i-1)"
   ]
  },
  {
   "cell_type": "code",
   "execution_count": 10,
   "id": "9ebfd1d7-cf92-4607-8261-5805cf8e020e",
   "metadata": {},
   "outputs": [],
   "source": [
    "numDV2 = numDV2 % 11"
   ]
  },
  {
   "cell_type": "code",
   "execution_count": 11,
   "id": "38947a03-a928-47e3-896c-f47bad1fa3ff",
   "metadata": {},
   "outputs": [],
   "source": [
    "if numDV2 == 10:\n",
    "    numdv2 = 0"
   ]
  },
  {
   "cell_type": "code",
   "execution_count": 12,
   "id": "2b224a85-fd4b-493b-9802-b3a385d28298",
   "metadata": {
    "jp-MarkdownHeadingCollapsed": true,
    "tags": []
   },
   "outputs": [],
   "source": [
    "if numDV2 != numCheckDV2:\n",
    "##    sys.exit = (\"Digito 2 Inválido!\")\n",
    "    print(\"Digito 2 Inválido!\")\n",
    "## else:\n",
    "##    sys.exit = (\"Digito 2 válido\")\n",
    "##    print(sys.exit)\n",
    "    "
   ]
  },
  {
   "cell_type": "code",
   "execution_count": 13,
   "id": "70b9c876-bd72-4f02-9271-02487895022d",
   "metadata": {
    "tags": []
   },
   "outputs": [
    {
     "name": "stdout",
     "output_type": "stream",
     "text": [
      "CPF Válido\n"
     ]
    }
   ],
   "source": [
    "if (numDV1 ==numCheckDV1 and numDV2 == numCheckDV2):\n",
    "    print(\"CPF Válido\")\n",
    "else:\n",
    "    print(\"CPF Inválido!\")"
   ]
  }
 ],
 "metadata": {
  "kernelspec": {
   "display_name": "Python 3 (ipykernel)",
   "language": "python",
   "name": "python3"
  },
  "language_info": {
   "codemirror_mode": {
    "name": "ipython",
    "version": 3
   },
   "file_extension": ".py",
   "mimetype": "text/x-python",
   "name": "python",
   "nbconvert_exporter": "python",
   "pygments_lexer": "ipython3",
   "version": "3.11.5"
  }
 },
 "nbformat": 4,
 "nbformat_minor": 5
}
