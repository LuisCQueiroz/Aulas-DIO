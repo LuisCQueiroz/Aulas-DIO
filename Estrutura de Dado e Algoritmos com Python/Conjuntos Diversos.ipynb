{
 "cells": [
  {
   "cell_type": "markdown",
   "id": "0809ecbf",
   "metadata": {},
   "source": [
    "# Conjuntos"
   ]
  },
  {
   "cell_type": "code",
   "execution_count": 4,
   "id": "7f589f20",
   "metadata": {},
   "outputs": [
    {
     "name": "stdout",
     "output_type": "stream",
     "text": [
      "{'structure', 'python', 'and', 'data'}\n",
      "<class 'set'>\n",
      "{'structure', 'python', 'and', 'data'}\n",
      "<class 'set'>\n"
     ]
    }
   ],
   "source": [
    "x1 = set(['and','python','data','structure'])\n",
    "print(x1)\n",
    "print(type(x1))\n",
    "x2 = {'and','python','data','structure'}\n",
    "print(x2)\n",
    "print(type(x2))"
   ]
  },
  {
   "cell_type": "code",
   "execution_count": 5,
   "id": "007221a2-d467-414e-94f8-4fff2238d294",
   "metadata": {},
   "outputs": [
    {
     "name": "stdout",
     "output_type": "stream",
     "text": [
      "4\n",
      "True\n"
     ]
    }
   ],
   "source": [
    "x = {'data','structure','and','python'}\n",
    "print(len(x))\n",
    "print('structure' in x)"
   ]
  },
  {
   "cell_type": "code",
   "execution_count": 6,
   "id": "37fae74b-08a6-45a2-92ff-90d8dd17fda9",
   "metadata": {},
   "outputs": [
    {
     "name": "stdout",
     "output_type": "stream",
     "text": [
      "{'python', 'c', 'structure', 'java', 'data'}\n",
      "{'python', 'c', 'structure', 'java', 'data'}\n"
     ]
    }
   ],
   "source": [
    "# União de dois conjuntos\n",
    "x1 = {'data', 'structure'}\n",
    "x2 = {'python', 'java', 'c', 'data'}\n",
    "# Método 1\n",
    "x3 = x1 | x2\n",
    "print(x3)\n",
    "\n",
    "# Método 2\n",
    "print(x1.union(x2))"
   ]
  },
  {
   "cell_type": "code",
   "execution_count": 7,
   "id": "00514283-541c-4148-8a28-605dd9b5559c",
   "metadata": {},
   "outputs": [
    {
     "name": "stdout",
     "output_type": "stream",
     "text": [
      "{'data'}\n",
      "{'data'}\n"
     ]
    }
   ],
   "source": [
    "# Intersecção de dois conjuntos\n",
    "# Método 1\n",
    "print(x1 & x2)\n",
    "# Método 2\n",
    "print(x1.intersection(x2))\n"
   ]
  },
  {
   "cell_type": "code",
   "execution_count": 8,
   "id": "465518eb-41d8-432e-b67b-cb5b0429350d",
   "metadata": {},
   "outputs": [
    {
     "name": "stdout",
     "output_type": "stream",
     "text": [
      "{'structure'}\n",
      "{'structure'}\n"
     ]
    }
   ],
   "source": [
    "# Diferença entre dois conjuntos\n",
    "# Método 1\n",
    "print( x1 - x2)\n",
    "# Método 2\n",
    "print(x1.difference(x2))\n"
   ]
  },
  {
   "cell_type": "code",
   "execution_count": 11,
   "id": "690aa65f-2e7e-4b75-a913-2790049bac05",
   "metadata": {},
   "outputs": [
    {
     "name": "stdout",
     "output_type": "stream",
     "text": [
      "{'python', 'c', 'structure', 'java'}\n",
      "{'python', 'c', 'structure', 'java'}\n"
     ]
    }
   ],
   "source": [
    "# Diferença Simétrica\n",
    "x1 = {'data', 'structure'}\n",
    "x2 = {'python', 'java', 'c', 'data'}\n",
    "# Método 1\n",
    "print( x1^x2)\n",
    "# Método 2\n",
    "print(x1.symmetric_difference(x2))"
   ]
  },
  {
   "cell_type": "code",
   "execution_count": 13,
   "id": "953477e8-7d6e-48a6-bbc8-f3a98911aa13",
   "metadata": {},
   "outputs": [
    {
     "name": "stdout",
     "output_type": "stream",
     "text": [
      "False\n",
      "False\n"
     ]
    }
   ],
   "source": [
    "# Verificar se um conjunto é subconjunto de outro\n",
    "# Método 1\n",
    "print( x1 <= x2)\n",
    "# Método 2\n",
    "print(x1.issubset(x2))"
   ]
  },
  {
   "cell_type": "code",
   "execution_count": null,
   "id": "f250d5f0-7f70-48b6-98d0-9a7c85610919",
   "metadata": {},
   "outputs": [],
   "source": []
  }
 ],
 "metadata": {
  "kernelspec": {
   "display_name": "Python 3 (ipykernel)",
   "language": "python",
   "name": "python3"
  },
  "language_info": {
   "codemirror_mode": {
    "name": "ipython",
    "version": 3
   },
   "file_extension": ".py",
   "mimetype": "text/x-python",
   "name": "python",
   "nbconvert_exporter": "python",
   "pygments_lexer": "ipython3",
   "version": "3.12.1"
  }
 },
 "nbformat": 4,
 "nbformat_minor": 5
}
