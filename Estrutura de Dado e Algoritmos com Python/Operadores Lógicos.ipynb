{
 "cells": [
  {
   "cell_type": "markdown",
   "id": "fde42f29",
   "metadata": {},
   "source": [
    "# Operadores Lógicos\n"
   ]
  },
  {
   "cell_type": "code",
   "execution_count": 3,
   "id": "5f11602b",
   "metadata": {},
   "outputs": [
    {
     "name": "stdout",
     "output_type": "stream",
     "text": [
      "Both a and b are greater than zero\n"
     ]
    }
   ],
   "source": [
    "a = 32\n",
    "b = 132\n",
    "if a > 0 and b > 0:\n",
    "    print(\"Both a and b are greater than zero\")\n",
    "else:\n",
    "    print(\"At least one variable is less than zero\")"
   ]
  },
  {
   "cell_type": "code",
   "execution_count": 6,
   "id": "23dd0631",
   "metadata": {},
   "outputs": [
    {
     "name": "stdout",
     "output_type": "stream",
     "text": [
      "At least one variable is greater than zero\n"
     ]
    }
   ],
   "source": [
    "a = 32\n",
    "b = -32\n",
    "\n",
    "if a > 0 or b > 0:\n",
    "    print('At least one variable is greater than zero')\n",
    "else:\n",
    "    print('Both variables are less than zero')"
   ]
  },
  {
   "cell_type": "code",
   "execution_count": 7,
   "id": "f6d8148e",
   "metadata": {},
   "outputs": [
    {
     "name": "stdout",
     "output_type": "stream",
     "text": [
      "Boolean value of a is True\n"
     ]
    }
   ],
   "source": [
    "a  = 32\n",
    "if not a:\n",
    "    print('Boolean value os a is False')\n",
    "else:\n",
    "    print('Boolean value of a is True')"
   ]
  },
  {
   "cell_type": "code",
   "execution_count": null,
   "id": "a8598b04",
   "metadata": {},
   "outputs": [],
   "source": []
  }
 ],
 "metadata": {
  "kernelspec": {
   "display_name": "Python 3 (ipykernel)",
   "language": "python",
   "name": "python3"
  },
  "language_info": {
   "codemirror_mode": {
    "name": "ipython",
    "version": 3
   },
   "file_extension": ".py",
   "mimetype": "text/x-python",
   "name": "python",
   "nbconvert_exporter": "python",
   "pygments_lexer": "ipython3",
   "version": "3.11.5"
  }
 },
 "nbformat": 4,
 "nbformat_minor": 5
}
