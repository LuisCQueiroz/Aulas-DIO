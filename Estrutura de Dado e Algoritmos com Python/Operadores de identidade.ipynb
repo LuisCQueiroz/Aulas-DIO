{
 "cells": [
  {
   "cell_type": "markdown",
   "id": "8f3716e7-9283-4916-9e35-6da21c9cb1e1",
   "metadata": {},
   "source": [
    "#Operadores de identidade"
   ]
  },
  {
   "cell_type": "code",
   "execution_count": 1,
   "id": "e248f52f-60d8-4f5e-9b8e-0c8979d15eee",
   "metadata": {
    "tags": []
   },
   "outputs": [
    {
     "name": "stdout",
     "output_type": "stream",
     "text": [
      "Both are equal\n",
      "Both variables are not pointing to the same object\n",
      "Both are not pointing to the same object\n"
     ]
    }
   ],
   "source": [
    "Firstlist = []\n",
    "Secondlist = []\n",
    "if Firstlist == Secondlist:\n",
    "    print(\"Both are equal\")\n",
    "else:\n",
    "    print(\"Both are not equal\")\n",
    "    \n",
    "if Firstlist is Secondlist:\n",
    "    print(\"Both variables are pointing to the same object\")\n",
    "else:\n",
    "    print(\"Both variables are not pointing to the same object\")\n",
    "    \n",
    "thirdList = Firstlist\n",
    "\n",
    "if thirdList is Secondlist:\n",
    "    print(\"Both are pointing to the same object\")\n",
    "else:\n",
    "    print(\"Both are not pointing to the same object\")"
   ]
  },
  {
   "cell_type": "code",
   "execution_count": 6,
   "id": "fd158bcb-498d-498c-9c08-e8fe40030618",
   "metadata": {
    "tags": []
   },
   "outputs": [
    {
     "name": "stdout",
     "output_type": "stream",
     "text": [
      "Both Firstlist are Secondlist variables are not the same object\n"
     ]
    }
   ],
   "source": [
    "Firstlist = []\n",
    "Secondlist = []\n",
    "if Firstlist is Secondlist:\n",
    "    print(\"Both Firstlist are Secondlist variables are the same object\")\n",
    "else:\n",
    "    print(\"Both Firstlist are Secondlist variables are not the same object\")"
   ]
  },
  {
   "cell_type": "code",
   "execution_count": null,
   "id": "16903d2f-1887-4283-b2e8-50b4499b58ed",
   "metadata": {},
   "outputs": [],
   "source": []
  }
 ],
 "metadata": {
  "kernelspec": {
   "display_name": "Python 3 (ipykernel)",
   "language": "python",
   "name": "python3"
  },
  "language_info": {
   "codemirror_mode": {
    "name": "ipython",
    "version": 3
   },
   "file_extension": ".py",
   "mimetype": "text/x-python",
   "name": "python",
   "nbconvert_exporter": "python",
   "pygments_lexer": "ipython3",
   "version": "3.11.5"
  }
 },
 "nbformat": 4,
 "nbformat_minor": 5
}
