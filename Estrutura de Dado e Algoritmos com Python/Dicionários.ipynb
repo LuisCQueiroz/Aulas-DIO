{
 "cells": [
  {
   "cell_type": "markdown",
   "id": "3c2ecd23",
   "metadata": {},
   "source": [
    "# Dicionários"
   ]
  },
  {
   "cell_type": "code",
   "execution_count": 1,
   "id": "5562da04",
   "metadata": {},
   "outputs": [
    {
     "data": {
      "text/plain": [
       "'data'"
      ]
     },
     "execution_count": 1,
     "metadata": {},
     "output_type": "execute_result"
    }
   ],
   "source": [
    "# Exemplo de dicionário\n",
    "my_dict = {'1': 'data',\n",
    "           '2': 'structure',\n",
    "           '3': 'python',\n",
    "           '4': 'programming',\n",
    "           '5': 'language'\n",
    "          }\n",
    "my_dict['1']"
   ]
  },
  {
   "cell_type": "code",
   "execution_count": 4,
   "id": "d8f44273",
   "metadata": {},
   "outputs": [
    {
     "name": "stdout",
     "output_type": "stream",
     "text": [
      "<class 'dict'>\n",
      "{'name': 'Luis', 'lastname': 'Queiroz', 'age': 55, 'address': 'Mundo da lua'}\n",
      "\n",
      "Luis\n",
      "\n",
      "4\n"
     ]
    }
   ],
   "source": [
    "# Criação de um dicionário, adição e aacesso aos seus elementos\n",
    "person = { }\n",
    "\n",
    "print(type(person)) # imprimindo o tipo criado\n",
    "\n",
    "person['name'] = 'Luis'\n",
    "person['lastname'] = \"Queiroz\"\n",
    "person['age'] = 55\n",
    "person['address'] = 'Mundo da lua'\n",
    "\n",
    "print(person)\n",
    "print()\n",
    "print(person['name'])\n",
    "print()\n",
    "print(len(person))"
   ]
  },
  {
   "cell_type": "code",
   "execution_count": 6,
   "id": "cdaa09bd",
   "metadata": {},
   "outputs": [
    {
     "name": "stdout",
     "output_type": "stream",
     "text": [
      "{'a': 1, 'b': 2, 'c': 3}\n",
      "\n",
      "Elementos my mydict:  {}\n"
     ]
    }
   ],
   "source": [
    "# Removendo todos elementos de um dicionário - mydict.clear()\n",
    "mydict = {'a':1,'b':2, 'c':3}\n",
    "print(mydict)\n",
    "print()\n",
    "mydict.clear()\n",
    "print(\"Elementos my mydict: \", mydict)"
   ]
  },
  {
   "cell_type": "code",
   "execution_count": 7,
   "id": "68cfbb47",
   "metadata": {},
   "outputs": [
    {
     "name": "stdout",
     "output_type": "stream",
     "text": [
      "{'a': 1, 'b': 2, 'c': 3}\n",
      "2\n",
      "None\n"
     ]
    }
   ],
   "source": [
    "# Busca uma chave no dicionário e retorna o valor correspondente\n",
    "mydict = {'a':1,'b':2, 'c':3}\n",
    "print(mydict)\n",
    "print(mydict.get('b'))\n",
    "print(mydict.get('z')) # quando não encontra apresenta 'None'"
   ]
  },
  {
   "cell_type": "code",
   "execution_count": 8,
   "id": "ae7cd133",
   "metadata": {},
   "outputs": [
    {
     "name": "stdout",
     "output_type": "stream",
     "text": [
      "[('a', 1), ('b', 2), ('c', 3)]\n"
     ]
    }
   ],
   "source": [
    "# Retorna uma lista de itens do dicionário em pares (chave, valor)\n",
    "print(list(mydict.items()))"
   ]
  },
  {
   "cell_type": "code",
   "execution_count": 9,
   "id": "cbdd00b2",
   "metadata": {},
   "outputs": [
    {
     "name": "stdout",
     "output_type": "stream",
     "text": [
      "['a', 'b', 'c']\n"
     ]
    }
   ],
   "source": [
    "# Retorna uma lista de chaves do dicionário\n",
    "print(list(mydict.keys()))"
   ]
  },
  {
   "cell_type": "code",
   "execution_count": 10,
   "id": "16c83f48",
   "metadata": {},
   "outputs": [
    {
     "name": "stdout",
     "output_type": "stream",
     "text": [
      "[1, 2, 3]\n"
     ]
    }
   ],
   "source": [
    "# Retorna uma lista de valores do dicionário\n",
    "print(list(mydict.values()))"
   ]
  },
  {
   "cell_type": "code",
   "execution_count": 13,
   "id": "b9a91663",
   "metadata": {},
   "outputs": [
    {
     "name": "stdout",
     "output_type": "stream",
     "text": [
      "{'a': 1, 'b': 2, 'c': 3}\n",
      "{'a': 1, 'c': 3}\n"
     ]
    }
   ],
   "source": [
    "# Remove um item do dicionário\n",
    "mydict = {'a':1,'b':2, 'c':3}\n",
    "print(mydict)\n",
    "mydict.pop('b')\n",
    "print(mydict)"
   ]
  },
  {
   "cell_type": "code",
   "execution_count": 14,
   "id": "70d7b6dd",
   "metadata": {},
   "outputs": [
    {
     "name": "stdout",
     "output_type": "stream",
     "text": [
      "{'a': 1, 'b': 2, 'c': 3}\n",
      "{'a': 1, 'b': 2}\n"
     ]
    }
   ],
   "source": [
    "# Remove o último item do dicionário\n",
    "mydict = {'a':1,'b':2, 'c':3}\n",
    "print(mydict)\n",
    "mydict.popitem()\n",
    "print(mydict)"
   ]
  },
  {
   "cell_type": "code",
   "execution_count": 19,
   "id": "ba01cef9",
   "metadata": {},
   "outputs": [
    {
     "name": "stdout",
     "output_type": "stream",
     "text": [
      "{'a': 10, 'b': 20, 'c': 30}\n",
      "{'b': 200, 'd': 400}\n",
      "\n",
      "d1 com atualização de elementos d2\n",
      "\n",
      "{'a': 10, 'b': 200, 'c': 30, 'd': 400}\n",
      "{'b': 200, 'd': 400}\n"
     ]
    }
   ],
   "source": [
    "# Atualiza um dicionário, se tiver item igual atualiza, senão acrescenta\n",
    "d1 = {'a': 10, 'b': 20, 'c': 30}\n",
    "d2 = {'b': 200, 'd': 400}\n",
    "print(d1)\n",
    "print(d2)\n",
    "print(\"\\nd1 com atualização de elementos d2\\n\")\n",
    "d1.update(d2)\n",
    "print(d1)\n",
    "print(d2)"
   ]
  },
  {
   "cell_type": "code",
   "execution_count": null,
   "id": "d0ff27d6",
   "metadata": {},
   "outputs": [],
   "source": []
  }
 ],
 "metadata": {
  "kernelspec": {
   "display_name": "Python 3 (ipykernel)",
   "language": "python",
   "name": "python3"
  },
  "language_info": {
   "codemirror_mode": {
    "name": "ipython",
    "version": 3
   },
   "file_extension": ".py",
   "mimetype": "text/x-python",
   "name": "python",
   "nbconvert_exporter": "python",
   "pygments_lexer": "ipython3",
   "version": "3.11.5"
  }
 },
 "nbformat": 4,
 "nbformat_minor": 5
}
