{
 "cells": [
  {
   "cell_type": "markdown",
   "id": "ebc5c602",
   "metadata": {},
   "source": [
    "# Tuplas"
   ]
  },
  {
   "cell_type": "code",
   "execution_count": 1,
   "id": "a55cf212",
   "metadata": {},
   "outputs": [],
   "source": [
    "#Exemplo de criação de tuplas\n",
    "tuple_name = (\"entry1\", \"entry2\", \"entry3\")\n",
    "\n",
    "my_tuple = (\"Luis\", 45, True, \"male\")"
   ]
  },
  {
   "cell_type": "code",
   "execution_count": 6,
   "id": "03b42b03",
   "metadata": {},
   "outputs": [
    {
     "name": "stdout",
     "output_type": "stream",
     "text": [
      "3\n",
      "(4, 5, 10, 20)\n",
      "(2, 1, 2, 1, 2, 1)\n",
      "True\n",
      "6\n",
      "7\n",
      "8\n"
     ]
    }
   ],
   "source": [
    "# Tamanho\n",
    "print(len((4,5, \"hello\")))\n",
    "\n",
    "# Concatenação de tuplas\n",
    "print((4,5) + (10,20))\n",
    "\n",
    "# Repetição de tuplas\n",
    "print((2,1)*3)\n",
    "\n",
    "# Associação de truplas\n",
    "print(3 in (\"hi\", \"xyz\", 3))\n",
    "\n",
    "# Iteração in tuplas\n",
    "for p in (6, 7, 8):\n",
    "    print(p)"
   ]
  },
  {
   "cell_type": "code",
   "execution_count": 8,
   "id": "cdf66041",
   "metadata": {},
   "outputs": [
    {
     "name": "stdout",
     "output_type": "stream",
     "text": [
      "world\n",
      "world\n",
      "('world', 'india')\n",
      "hello\n"
     ]
    }
   ],
   "source": [
    "# Indexação e fatiamento de tuplas\n",
    "x = (\"hello\", \"world\", \"india\")\n",
    "print(x[1])\n",
    "print(x[-2]) #indexação com número negativo - a contagem começa pelo lado direito\n",
    "print(x[1:])\n",
    "print(x[0])"
   ]
  },
  {
   "cell_type": "code",
   "execution_count": null,
   "id": "fb173d44",
   "metadata": {},
   "outputs": [],
   "source": []
  }
 ],
 "metadata": {
  "kernelspec": {
   "display_name": "Python 3 (ipykernel)",
   "language": "python",
   "name": "python3"
  },
  "language_info": {
   "codemirror_mode": {
    "name": "ipython",
    "version": 3
   },
   "file_extension": ".py",
   "mimetype": "text/x-python",
   "name": "python",
   "nbconvert_exporter": "python",
   "pygments_lexer": "ipython3",
   "version": "3.11.5"
  }
 },
 "nbformat": 4,
 "nbformat_minor": 5
}
