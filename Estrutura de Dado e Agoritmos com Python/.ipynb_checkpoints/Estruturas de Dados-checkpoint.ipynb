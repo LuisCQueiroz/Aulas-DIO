{
 "cells": [
  {
   "cell_type": "markdown",
   "id": "b52314d9-4e67-40cd-9555-5cf44978d64d",
   "metadata": {},
   "source": [
    "#Estruturas de dados"
   ]
  },
  {
   "cell_type": "code",
   "execution_count": 2,
   "id": "626a0cdc",
   "metadata": {
    "tags": []
   },
   "outputs": [
    {
     "name": "stdout",
     "output_type": "stream",
     "text": [
      "['data', 'and', 'book', 'structure', 'hello', 'st']\n",
      "['data', 'and', 'book', 'structure', 'hello', 'st', 32]\n"
     ]
    }
   ],
   "source": [
    "b = ['data', 'and','book', 'structure', 'hello', 'st']\n",
    "print(b)\n",
    "b+= [32]\n",
    "print(b)"
   ]
  },
  {
   "cell_type": "code",
   "execution_count": 3,
   "id": "b92b56ab",
   "metadata": {
    "tags": []
   },
   "outputs": [
    {
     "name": "stdout",
     "output_type": "stream",
     "text": [
      "['data', 'and', 'structure', 'hello', 'st', 32]\n"
     ]
    }
   ],
   "source": [
    "b[2:3] = []\n",
    "print(b)"
   ]
  },
  {
   "cell_type": "code",
   "execution_count": 4,
   "id": "068e49ec",
   "metadata": {
    "tags": []
   },
   "outputs": [
    {
     "name": "stdout",
     "output_type": "stream",
     "text": [
      "['and', 'structure', 'hello', 'st', 32]\n"
     ]
    }
   ],
   "source": [
    "del b[0]\n",
    "print(b)"
   ]
  },
  {
   "cell_type": "code",
   "execution_count": 9,
   "id": "3de95d4b",
   "metadata": {},
   "outputs": [
    {
     "name": "stdout",
     "output_type": "stream",
     "text": [
      "['data', 'and', 'book', 'structure', 'hello', 'st']\n"
     ]
    }
   ],
   "source": [
    "a=['data', 'and','book', 'structure', 'hello', 'st']\n",
    "print (a)"
   ]
  },
  {
   "cell_type": "code",
   "execution_count": 10,
   "id": "c5397b2d",
   "metadata": {},
   "outputs": [
    {
     "name": "stdout",
     "output_type": "stream",
     "text": [
      "['book', 'structure', 'hello']\n"
     ]
    }
   ],
   "source": [
    "print(a[2:5])"
   ]
  },
  {
   "cell_type": "code",
   "execution_count": 11,
   "id": "6d17c1a0",
   "metadata": {},
   "outputs": [
    {
     "name": "stdout",
     "output_type": "stream",
     "text": [
      "['data', 'and', 1, 2, 3, 4, 5, 'st']\n"
     ]
    }
   ],
   "source": [
    "a[2:5] = [1,2,3,4,5]\n",
    "print(a)"
   ]
  },
  {
   "cell_type": "code",
   "execution_count": 8,
   "id": "367b72f4",
   "metadata": {
    "tags": []
   },
   "outputs": [
    {
     "name": "stdout",
     "output_type": "stream",
     "text": [
      "True\n",
      "['data', 'structures', 'using', 'python', 'happy', 'learning']\n",
      "['data', 'structures', 'using', 'python', 'happy', 'learning', 'New', 'elements']\n",
      "['data', 'structures', 'using', 'python', 'happy', 'learning']\n",
      "['data', 'structures', 'using', 'python', 'happy', 'learning', 'data', 'structures', 'using', 'python', 'happy', 'learning']\n",
      "6\n",
      "data\n"
     ]
    }
   ],
   "source": [
    "#Outros Operadores\n",
    "a = ['data', 'structures', 'using', 'python', 'happy','learning']\n",
    "print('data' in a)\n",
    "print(a)\n",
    "print(a+['New', 'elements'])\n",
    "print(a)\n",
    "print(a*2)\n",
    "print(len(a))\n",
    "print(min(a))\n"
   ]
  },
  {
   "cell_type": "code",
   "execution_count": null,
   "id": "204ab933-8b84-43d5-acc0-fc2cb71bb564",
   "metadata": {},
   "outputs": [],
   "source": []
  }
 ],
 "metadata": {
  "kernelspec": {
   "display_name": "Python 3 (ipykernel)",
   "language": "python",
   "name": "python3"
  },
  "language_info": {
   "codemirror_mode": {
    "name": "ipython",
    "version": 3
   },
   "file_extension": ".py",
   "mimetype": "text/x-python",
   "name": "python",
   "nbconvert_exporter": "python",
   "pygments_lexer": "ipython3",
   "version": "3.11.5"
  }
 },
 "nbformat": 4,
 "nbformat_minor": 5
}
