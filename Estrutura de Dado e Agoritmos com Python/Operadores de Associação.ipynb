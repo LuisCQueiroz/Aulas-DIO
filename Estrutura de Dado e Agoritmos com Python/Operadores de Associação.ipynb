{
 "cells": [
  {
   "cell_type": "code",
   "execution_count": 7,
   "id": "b93438f9-0106-4191-86fd-b386e40724c4",
   "metadata": {
    "tags": []
   },
   "outputs": [
    {
     "name": "stdout",
     "output_type": "stream",
     "text": [
      "elements are not overlapping\n"
     ]
    }
   ],
   "source": [
    "#Programa Python que verifica se um item (digamos, o segundo\n",
    "# item do exemplo a seguir) de uma lista está (ou não) presente\n",
    "# em outra lista usando o operador 'in'\n",
    "mylist1 = [100,20,30,40]\n",
    "mylist2 = [10,50.60,90]\n",
    "\n",
    "if mylist1[0] in mylist2:\n",
    "    print(\"elements are overlapping\")\n",
    "else:\n",
    "    print(\"elements are not overlapping\")\n",
    "       \n",
    "    "
   ]
  },
  {
   "cell_type": "code",
   "execution_count": 10,
   "id": "54dafe10-ce44-4592-a58b-4d4573a1ed79",
   "metadata": {
    "tags": []
   },
   "outputs": [
    {
     "name": "stdout",
     "output_type": "stream",
     "text": [
      "Value is present im my list\n"
     ]
    }
   ],
   "source": [
    "val = 210\n",
    "mylist = [100, 210, 430, 840, 108]\n",
    "\n",
    "if val not in mylist:\n",
    "    print(\"Value is NOT present in mylist\")\n",
    "else:\n",
    "    print(\"Value is present im my list\")"
   ]
  },
  {
   "cell_type": "code",
   "execution_count": null,
   "id": "2e2332fd-919a-44ea-b602-ba552c75f31c",
   "metadata": {},
   "outputs": [],
   "source": []
  }
 ],
 "metadata": {
  "kernelspec": {
   "display_name": "Python 3 (ipykernel)",
   "language": "python",
   "name": "python3"
  },
  "language_info": {
   "codemirror_mode": {
    "name": "ipython",
    "version": 3
   },
   "file_extension": ".py",
   "mimetype": "text/x-python",
   "name": "python",
   "nbconvert_exporter": "python",
   "pygments_lexer": "ipython3",
   "version": "3.11.5"
  }
 },
 "nbformat": 4,
 "nbformat_minor": 5
}
